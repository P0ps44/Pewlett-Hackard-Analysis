{
 "cells": [
  {
   "cell_type": "code",
   "execution_count": 96,
   "id": "d2a7521e",
   "metadata": {},
   "outputs": [],
   "source": [
    "import pandas as pd\n",
    "\n",
    "import matplotlib.pyplot as plt\n",
    "\n",
    "mid_data_load = \"Data/mentorship_eligibilty.csv\"\n",
    "\n",
    "senior_data = \"Data/retirement_titles.csv\"\n",
    "\n",
    "ml = pd.read_csv(mid_data_load)\n",
    "\n",
    "sl = pd.read_csv(senior_data)\n"
   ]
  },
  {
   "cell_type": "code",
   "execution_count": 97,
   "id": "69320171",
   "metadata": {},
   "outputs": [
    {
     "data": {
      "text/html": [
       "<div>\n",
       "<style scoped>\n",
       "    .dataframe tbody tr th:only-of-type {\n",
       "        vertical-align: middle;\n",
       "    }\n",
       "\n",
       "    .dataframe tbody tr th {\n",
       "        vertical-align: top;\n",
       "    }\n",
       "\n",
       "    .dataframe thead th {\n",
       "        text-align: right;\n",
       "    }\n",
       "</style>\n",
       "<table border=\"1\" class=\"dataframe\">\n",
       "  <thead>\n",
       "    <tr style=\"text-align: right;\">\n",
       "      <th></th>\n",
       "      <th>emp_no</th>\n",
       "      <th>first_name</th>\n",
       "      <th>last_name</th>\n",
       "      <th>birth_date</th>\n",
       "      <th>from_date</th>\n",
       "      <th>to_date</th>\n",
       "      <th>title</th>\n",
       "    </tr>\n",
       "  </thead>\n",
       "  <tbody>\n",
       "    <tr>\n",
       "      <th>0</th>\n",
       "      <td>10095</td>\n",
       "      <td>Hilari</td>\n",
       "      <td>Morton</td>\n",
       "      <td>1965-01-03</td>\n",
       "      <td>1994-03-10</td>\n",
       "      <td>9999-01-01</td>\n",
       "      <td>Senior Staff</td>\n",
       "    </tr>\n",
       "    <tr>\n",
       "      <th>1</th>\n",
       "      <td>10122</td>\n",
       "      <td>Ohad</td>\n",
       "      <td>Esposito</td>\n",
       "      <td>1965-01-19</td>\n",
       "      <td>1998-08-06</td>\n",
       "      <td>9999-01-01</td>\n",
       "      <td>Technique Leader</td>\n",
       "    </tr>\n",
       "    <tr>\n",
       "      <th>2</th>\n",
       "      <td>10291</td>\n",
       "      <td>Dipayan</td>\n",
       "      <td>Seghrouchni</td>\n",
       "      <td>1965-01-23</td>\n",
       "      <td>1987-03-30</td>\n",
       "      <td>9999-01-01</td>\n",
       "      <td>Senior Staff</td>\n",
       "    </tr>\n",
       "    <tr>\n",
       "      <th>3</th>\n",
       "      <td>10476</td>\n",
       "      <td>Kokou</td>\n",
       "      <td>Iisaka</td>\n",
       "      <td>1965-01-01</td>\n",
       "      <td>1987-09-20</td>\n",
       "      <td>9999-01-01</td>\n",
       "      <td>Senior Staff</td>\n",
       "    </tr>\n",
       "    <tr>\n",
       "      <th>4</th>\n",
       "      <td>10663</td>\n",
       "      <td>Teunis</td>\n",
       "      <td>Noriega</td>\n",
       "      <td>1965-01-09</td>\n",
       "      <td>1999-02-12</td>\n",
       "      <td>9999-01-01</td>\n",
       "      <td>Technique Leader</td>\n",
       "    </tr>\n",
       "  </tbody>\n",
       "</table>\n",
       "</div>"
      ],
      "text/plain": [
       "   emp_no first_name    last_name  birth_date   from_date     to_date  \\\n",
       "0   10095     Hilari       Morton  1965-01-03  1994-03-10  9999-01-01   \n",
       "1   10122       Ohad     Esposito  1965-01-19  1998-08-06  9999-01-01   \n",
       "2   10291    Dipayan  Seghrouchni  1965-01-23  1987-03-30  9999-01-01   \n",
       "3   10476      Kokou       Iisaka  1965-01-01  1987-09-20  9999-01-01   \n",
       "4   10663     Teunis      Noriega  1965-01-09  1999-02-12  9999-01-01   \n",
       "\n",
       "              title  \n",
       "0      Senior Staff  \n",
       "1  Technique Leader  \n",
       "2      Senior Staff  \n",
       "3      Senior Staff  \n",
       "4  Technique Leader  "
      ]
     },
     "execution_count": 97,
     "metadata": {},
     "output_type": "execute_result"
    }
   ],
   "source": [
    "# Check Student Data\n",
    "ml.head()"
   ]
  },
  {
   "cell_type": "code",
   "execution_count": 98,
   "id": "ec97afe9",
   "metadata": {},
   "outputs": [
    {
     "data": {
      "text/html": [
       "<div>\n",
       "<style scoped>\n",
       "    .dataframe tbody tr th:only-of-type {\n",
       "        vertical-align: middle;\n",
       "    }\n",
       "\n",
       "    .dataframe tbody tr th {\n",
       "        vertical-align: top;\n",
       "    }\n",
       "\n",
       "    .dataframe thead th {\n",
       "        text-align: right;\n",
       "    }\n",
       "</style>\n",
       "<table border=\"1\" class=\"dataframe\">\n",
       "  <thead>\n",
       "    <tr style=\"text-align: right;\">\n",
       "      <th></th>\n",
       "      <th>emp_no</th>\n",
       "      <th>first_name</th>\n",
       "      <th>last_name</th>\n",
       "      <th>title</th>\n",
       "      <th>from_date</th>\n",
       "      <th>to_date</th>\n",
       "    </tr>\n",
       "  </thead>\n",
       "  <tbody>\n",
       "    <tr>\n",
       "      <th>0</th>\n",
       "      <td>10001</td>\n",
       "      <td>Georgi</td>\n",
       "      <td>Facello</td>\n",
       "      <td>Senior Engineer</td>\n",
       "      <td>1986-06-26</td>\n",
       "      <td>9999-01-01</td>\n",
       "    </tr>\n",
       "    <tr>\n",
       "      <th>1</th>\n",
       "      <td>10004</td>\n",
       "      <td>Chirstian</td>\n",
       "      <td>Koblick</td>\n",
       "      <td>Engineer</td>\n",
       "      <td>1986-12-01</td>\n",
       "      <td>1995-12-01</td>\n",
       "    </tr>\n",
       "    <tr>\n",
       "      <th>2</th>\n",
       "      <td>10004</td>\n",
       "      <td>Chirstian</td>\n",
       "      <td>Koblick</td>\n",
       "      <td>Senior Engineer</td>\n",
       "      <td>1995-12-01</td>\n",
       "      <td>9999-01-01</td>\n",
       "    </tr>\n",
       "    <tr>\n",
       "      <th>3</th>\n",
       "      <td>10005</td>\n",
       "      <td>Kyoichi</td>\n",
       "      <td>Maliniak</td>\n",
       "      <td>Senior Staff</td>\n",
       "      <td>1996-09-12</td>\n",
       "      <td>9999-01-01</td>\n",
       "    </tr>\n",
       "    <tr>\n",
       "      <th>4</th>\n",
       "      <td>10005</td>\n",
       "      <td>Kyoichi</td>\n",
       "      <td>Maliniak</td>\n",
       "      <td>Staff</td>\n",
       "      <td>1989-09-12</td>\n",
       "      <td>1996-09-12</td>\n",
       "    </tr>\n",
       "  </tbody>\n",
       "</table>\n",
       "</div>"
      ],
      "text/plain": [
       "   emp_no first_name last_name            title   from_date     to_date\n",
       "0   10001     Georgi   Facello  Senior Engineer  1986-06-26  9999-01-01\n",
       "1   10004  Chirstian   Koblick         Engineer  1986-12-01  1995-12-01\n",
       "2   10004  Chirstian   Koblick  Senior Engineer  1995-12-01  9999-01-01\n",
       "3   10005    Kyoichi  Maliniak     Senior Staff  1996-09-12  9999-01-01\n",
       "4   10005    Kyoichi  Maliniak            Staff  1989-09-12  1996-09-12"
      ]
     },
     "execution_count": 98,
     "metadata": {},
     "output_type": "execute_result"
    }
   ],
   "source": [
    "# Check Retirement Data\n",
    "sl.head()"
   ]
  },
  {
   "cell_type": "code",
   "execution_count": 99,
   "id": "4be6e8aa",
   "metadata": {},
   "outputs": [
    {
     "data": {
      "text/plain": [
       "133776"
      ]
     },
     "execution_count": 99,
     "metadata": {},
     "output_type": "execute_result"
    }
   ],
   "source": [
    "#Total number of retiring employees\n",
    "sl['emp_no'].count()"
   ]
  },
  {
   "cell_type": "code",
   "execution_count": 100,
   "id": "9963ce0a",
   "metadata": {},
   "outputs": [
    {
     "data": {
      "text/plain": [
       "1549"
      ]
     },
     "execution_count": 100,
     "metadata": {},
     "output_type": "execute_result"
    }
   ],
   "source": [
    "#Total number of non retiring employees \n",
    "\n",
    "ml['emp_no'].count()"
   ]
  },
  {
   "cell_type": "code",
   "execution_count": 112,
   "id": "5a78a8fe",
   "metadata": {},
   "outputs": [
    {
     "data": {
      "image/png": "[encoded data removed]",
      "text/plain": [
       "<Figure size 800x800 with 1 Axes>"
      ]
     },
     "metadata": {},
     "output_type": "display_data"
    }
   ],
   "source": [
    "# Create simple pie graph comparison that show how severe the situation is based off counts.\n",
    "\n",
    "df = pd.DataFrame([sl['emp_no'].count(),ml['emp_no'].count()], index=['Retiring', 'Staying'], columns=[''])\n",
    " \n",
    "# make the plot\n",
    "df.plot(kind='pie', subplots=True, figsize=(8, 8),autopct='%1.1f%%')\n",
    "\n",
    "#Save file, template from \"https://problemsolvingwithpython.com/06-Plotting-with-Matplotlib/06.04-Saving-Plots/\"\n",
    "plt.savefig('Data/EmployeeDiff.png', dpi=300, bbox_inches='tight')\n",
    "\n",
    "# show the plot\n",
    "plt.show()"
   ]
  },
  {
   "cell_type": "code",
   "execution_count": 102,
   "id": "96852deb",
   "metadata": {},
   "outputs": [
    {
     "data": {
      "text/plain": [
       "title\n",
       "Assistant Engineer     29\n",
       "Engineer              190\n",
       "Senior Engineer       529\n",
       "Senior Staff          569\n",
       "Staff                 155\n",
       "Technique Leader       77\n",
       "Name: emp_no, dtype: int64"
      ]
     },
     "execution_count": 102,
     "metadata": {},
     "output_type": "execute_result"
    }
   ],
   "source": [
    "#Grouping number of non retiring employees by title \n",
    "\n",
    "total_mid = ml.groupby([\"title\"]).count()[\"emp_no\"]\n",
    "\n",
    "total_mid"
   ]
  },
  {
   "cell_type": "code",
   "execution_count": 69,
   "id": "72a0e610",
   "metadata": {},
   "outputs": [],
   "source": [
    "total_mid.to_csv('Data/mid.csv')  "
   ]
  },
  {
   "cell_type": "code",
   "execution_count": null,
   "id": "fc27d92d",
   "metadata": {},
   "outputs": [],
   "source": []
  },
  {
   "cell_type": "code",
   "execution_count": null,
   "id": "1997653c",
   "metadata": {},
   "outputs": [],
   "source": []
  }
 ],
 "metadata": {
  "kernelspec": {
   "display_name": "Python 3 (ipykernel)",
   "language": "python",
   "name": "python3"
  },
  "language_info": {
   "codemirror_mode": {
    "name": "ipython",
    "version": 3
   },
   "file_extension": ".py",
   "mimetype": "text/x-python",
   "name": "python",
   "nbconvert_exporter": "python",
   "pygments_lexer": "ipython3",
   "version": "3.9.13"
  }
 },
 "nbformat": 4,
 "nbformat_minor": 5
}
