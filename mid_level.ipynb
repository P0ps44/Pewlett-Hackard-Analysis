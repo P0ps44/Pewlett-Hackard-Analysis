{
 "cells": [
  {
   "cell_type": "code",
   "execution_count": 34,
   "id": "d2a7521e",
   "metadata": {},
   "outputs": [],
   "source": [
    "import pandas as pd\n",
    "\n",
    "mid_data_load = \"Data/mentorship_eligibilty.csv\"\n",
    "\n",
    "ml = pd.read_csv(student_data_load)\n"
   ]
  },
  {
   "cell_type": "code",
   "execution_count": 35,
   "id": "69320171",
   "metadata": {},
   "outputs": [
    {
     "data": {
      "text/html": [
       "<div>\n",
       "<style scoped>\n",
       "    .dataframe tbody tr th:only-of-type {\n",
       "        vertical-align: middle;\n",
       "    }\n",
       "\n",
       "    .dataframe tbody tr th {\n",
       "        vertical-align: top;\n",
       "    }\n",
       "\n",
       "    .dataframe thead th {\n",
       "        text-align: right;\n",
       "    }\n",
       "</style>\n",
       "<table border=\"1\" class=\"dataframe\">\n",
       "  <thead>\n",
       "    <tr style=\"text-align: right;\">\n",
       "      <th></th>\n",
       "      <th>emp_no</th>\n",
       "      <th>first_name</th>\n",
       "      <th>last_name</th>\n",
       "      <th>birth_date</th>\n",
       "      <th>from_date</th>\n",
       "      <th>to_date</th>\n",
       "      <th>title</th>\n",
       "    </tr>\n",
       "  </thead>\n",
       "  <tbody>\n",
       "    <tr>\n",
       "      <th>0</th>\n",
       "      <td>10095</td>\n",
       "      <td>Hilari</td>\n",
       "      <td>Morton</td>\n",
       "      <td>1965-01-03</td>\n",
       "      <td>1994-03-10</td>\n",
       "      <td>9999-01-01</td>\n",
       "      <td>Senior Staff</td>\n",
       "    </tr>\n",
       "    <tr>\n",
       "      <th>1</th>\n",
       "      <td>10122</td>\n",
       "      <td>Ohad</td>\n",
       "      <td>Esposito</td>\n",
       "      <td>1965-01-19</td>\n",
       "      <td>1998-08-06</td>\n",
       "      <td>9999-01-01</td>\n",
       "      <td>Technique Leader</td>\n",
       "    </tr>\n",
       "    <tr>\n",
       "      <th>2</th>\n",
       "      <td>10291</td>\n",
       "      <td>Dipayan</td>\n",
       "      <td>Seghrouchni</td>\n",
       "      <td>1965-01-23</td>\n",
       "      <td>1987-03-30</td>\n",
       "      <td>9999-01-01</td>\n",
       "      <td>Senior Staff</td>\n",
       "    </tr>\n",
       "    <tr>\n",
       "      <th>3</th>\n",
       "      <td>10476</td>\n",
       "      <td>Kokou</td>\n",
       "      <td>Iisaka</td>\n",
       "      <td>1965-01-01</td>\n",
       "      <td>1987-09-20</td>\n",
       "      <td>9999-01-01</td>\n",
       "      <td>Senior Staff</td>\n",
       "    </tr>\n",
       "    <tr>\n",
       "      <th>4</th>\n",
       "      <td>10663</td>\n",
       "      <td>Teunis</td>\n",
       "      <td>Noriega</td>\n",
       "      <td>1965-01-09</td>\n",
       "      <td>1999-02-12</td>\n",
       "      <td>9999-01-01</td>\n",
       "      <td>Technique Leader</td>\n",
       "    </tr>\n",
       "  </tbody>\n",
       "</table>\n",
       "</div>"
      ],
      "text/plain": [
       "   emp_no first_name    last_name  birth_date   from_date     to_date  \\\n",
       "0   10095     Hilari       Morton  1965-01-03  1994-03-10  9999-01-01   \n",
       "1   10122       Ohad     Esposito  1965-01-19  1998-08-06  9999-01-01   \n",
       "2   10291    Dipayan  Seghrouchni  1965-01-23  1987-03-30  9999-01-01   \n",
       "3   10476      Kokou       Iisaka  1965-01-01  1987-09-20  9999-01-01   \n",
       "4   10663     Teunis      Noriega  1965-01-09  1999-02-12  9999-01-01   \n",
       "\n",
       "              title  \n",
       "0      Senior Staff  \n",
       "1  Technique Leader  \n",
       "2      Senior Staff  \n",
       "3      Senior Staff  \n",
       "4  Technique Leader  "
      ]
     },
     "execution_count": 35,
     "metadata": {},
     "output_type": "execute_result"
    }
   ],
   "source": [
    "ml.head()"
   ]
  },
  {
   "cell_type": "code",
   "execution_count": 36,
   "id": "9963ce0a",
   "metadata": {},
   "outputs": [
    {
     "data": {
      "text/plain": [
       "1549"
      ]
     },
     "execution_count": 36,
     "metadata": {},
     "output_type": "execute_result"
    }
   ],
   "source": [
    "ml['emp_no'].count()"
   ]
  },
  {
   "cell_type": "code",
   "execution_count": 37,
   "id": "96852deb",
   "metadata": {},
   "outputs": [
    {
     "data": {
      "text/plain": [
       "title\n",
       "Assistant Engineer     29\n",
       "Engineer              190\n",
       "Senior Engineer       529\n",
       "Senior Staff          569\n",
       "Staff                 155\n",
       "Technique Leader       77\n",
       "Name: emp_no, dtype: int64"
      ]
     },
     "execution_count": 37,
     "metadata": {},
     "output_type": "execute_result"
    }
   ],
   "source": [
    "total_mid = sd.groupby([\"title\"]).count()[\"emp_no\"]\n",
    "\n",
    "total_mid"
   ]
  },
  {
   "cell_type": "code",
   "execution_count": 38,
   "id": "72a0e610",
   "metadata": {},
   "outputs": [],
   "source": [
    "total_mid.to_csv('mid.csv')  "
   ]
  },
  {
   "cell_type": "code",
   "execution_count": null,
   "id": "fc27d92d",
   "metadata": {},
   "outputs": [],
   "source": []
  }
 ],
 "metadata": {
  "kernelspec": {
   "display_name": "Python 3 (ipykernel)",
   "language": "python",
   "name": "python3"
  },
  "language_info": {
   "codemirror_mode": {
    "name": "ipython",
    "version": 3
   },
   "file_extension": ".py",
   "mimetype": "text/x-python",
   "name": "python",
   "nbconvert_exporter": "python",
   "pygments_lexer": "ipython3",
   "version": "3.9.13"
  }
 },
 "nbformat": 4,
 "nbformat_minor": 5
}
